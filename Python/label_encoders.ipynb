{
  "nbformat": 4,
  "nbformat_minor": 0,
  "metadata": {
    "colab": {
      "provenance": []
    },
    "kernelspec": {
      "name": "python3",
      "display_name": "Python 3"
    },
    "language_info": {
      "name": "python"
    }
  },
  "cells": [
    {
      "cell_type": "code",
      "execution_count": null,
      "metadata": {
        "colab": {
          "base_uri": "https://localhost:8080/"
        },
        "id": "dw1kIHzhM5Y0",
        "outputId": "d5626324-d6e2-4d85-f08f-e42ed540f6cb"
      },
      "outputs": [
        {
          "output_type": "stream",
          "name": "stdout",
          "text": [
            "Index(['Disease', 'Fever', 'Cough', 'Fatigue', 'Difficulty Breathing', 'Age',\n",
            "       'Gender', 'Blood Pressure', 'Cholesterol Level', 'Outcome Variable'],\n",
            "      dtype='object')\n"
          ]
        }
      ],
      "source": [
        "import pandas as pd\n",
        "import matplotlib.pyplot as plt\n",
        "import seaborn as sns\n",
        "import numpy as np\n",
        "from sklearn.model_selection import train_test_split\n",
        "from sklearn.preprocessing import LabelEncoder\n",
        "from sklearn.linear_model import LogisticRegression\n",
        "from sklearn.ensemble import RandomForestClassifier\n",
        "from sklearn.tree import DecisionTreeClassifier, plot_tree\n",
        "from sklearn.svm import SVC\n",
        "from sklearn.neighbors import KNeighborsClassifier\n",
        "from sklearn.metrics import accuracy_score, confusion_matrix\n",
        "from matplotlib import pyplot as plt\n",
        "from sklearn.datasets import make_classification\n",
        "from sklearn.decomposition import PCA\n",
        "from sklearn import tree\n",
        "\n",
        "data_path = \"/content/disease_symptom (Kelompok 4).csv\"\n",
        "data = pd.read_csv(data_path)\n",
        "\n",
        "print(data.columns)"
      ]
    },
    {
      "cell_type": "code",
      "source": [
        "label_encoders = {}\n",
        "for column in data.columns:\n",
        "    if data[column].dtype == 'object':\n",
        "        label_encoders[column] = LabelEncoder()\n",
        "        data[column] = label_encoders[column].fit_transform(data[column])\n",
        "\n",
        "print(data)\n"
      ],
      "metadata": {
        "colab": {
          "base_uri": "https://localhost:8080/"
        },
        "id": "rfQCBQf1RY-g",
        "outputId": "381ff623-f165-4c77-a595-552ecac801fd"
      },
      "execution_count": null,
      "outputs": [
        {
          "output_type": "stream",
          "name": "stdout",
          "text": [
            "     Disease  Fever  Cough  Fatigue  Difficulty Breathing  Age  Gender  \\\n",
            "0         56      1      0        1                     1   19       0   \n",
            "1         24      0      1        1                     0   25       0   \n",
            "2         37      0      1        1                     0   25       0   \n",
            "3          6      1      1        0                     1   25       1   \n",
            "4          6      1      1        0                     1   25       1   \n",
            "..       ...    ...    ...      ...                   ...  ...     ...   \n",
            "344      101      1      0        1                     0   80       0   \n",
            "345      101      1      0        1                     0   85       1   \n",
            "346      101      1      0        1                     0   85       1   \n",
            "347      101      1      0        1                     0   90       0   \n",
            "348      101      1      0        1                     0   90       0   \n",
            "\n",
            "     Blood Pressure  Cholesterol Level  Outcome Variable  \n",
            "0                 1                  2                 1  \n",
            "1                 2                  2                 0  \n",
            "2                 2                  2                 0  \n",
            "3                 2                  2                 1  \n",
            "4                 2                  2                 1  \n",
            "..              ...                ...               ...  \n",
            "344               0                  0                 1  \n",
            "345               0                  0                 1  \n",
            "346               0                  0                 1  \n",
            "347               0                  0                 1  \n",
            "348               0                  0                 1  \n",
            "\n",
            "[349 rows x 10 columns]\n"
          ]
        }
      ]
    }
  ]
}
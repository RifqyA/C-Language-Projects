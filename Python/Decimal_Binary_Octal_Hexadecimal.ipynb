{
  "nbformat": 4,
  "nbformat_minor": 0,
  "metadata": {
    "colab": {
      "provenance": []
    },
    "kernelspec": {
      "name": "python3",
      "display_name": "Python 3"
    },
    "language_info": {
      "name": "python"
    }
  },
  "cells": [
    {
      "cell_type": "code",
      "execution_count": 1,
      "metadata": {
        "colab": {
          "base_uri": "https://localhost:8080/"
        },
        "id": "CVAf4I-7FDAw",
        "outputId": "711281cd-5a9e-4d0a-e1b4-b7a37e4e6dd2"
      },
      "outputs": [
        {
          "output_type": "stream",
          "name": "stdout",
          "text": [
            "Enter a decimal number: 15\n",
            "Base Table:\n",
            " Decimal Binary Octal Hexadecimal\n",
            "       1      1     1           1\n",
            "       2     10     2           2\n",
            "       3     11     3           3\n",
            "       4    100     4           4\n",
            "       5    101     5           5\n",
            "       6    110     6           6\n",
            "       7    111     7           7\n",
            "       8   1000    10           8\n",
            "       9   1001    11           9\n",
            "      10   1010    12           A\n",
            "      11   1011    13           B\n",
            "      12   1100    14           C\n",
            "      13   1101    15           D\n",
            "      14   1110    16           E\n",
            "      15   1111    17           F\n"
          ]
        }
      ],
      "source": [
        "\n",
        "import pandas as pd\n",
        "\n",
        "def base_table(dec):\n",
        "    data = {\"Decimal\": list(range(1, dec + 1)),\n",
        "            \"Binary\": [bin(i)[2:] for i in range(1, dec + 1)],\n",
        "            \"Octal\": [oct(i)[2:] for i in range(1, dec + 1)],\n",
        "            \"Hexadecimal\": [hex(i)[2:].upper() for i in range(1, dec + 1)]}\n",
        "\n",
        "    df = pd.DataFrame(data)\n",
        "    return df\n",
        "\n",
        "def main():\n",
        "    try:\n",
        "        dec = int(input(\"Enter a decimal number: \"))\n",
        "        if dec < 1:\n",
        "            print(\"INVALID NUMBER\")\n",
        "            return\n",
        "\n",
        "        table = base_table(dec)\n",
        "        print(\"Base Table:\")\n",
        "        print(table.to_string(index=False))\n",
        "\n",
        "    except ValueError:\n",
        "        print(\"INVALID INPUT\")\n",
        "\n",
        "if __name__ == \"__main__\":\n",
        "    main()"
      ]
    }
  ]
}